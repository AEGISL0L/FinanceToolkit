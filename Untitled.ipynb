{
 "cells": [
  {
   "cell_type": "code",
   "execution_count": 1,
   "id": "44cb252d",
   "metadata": {},
   "outputs": [],
   "source": [
    "from financialtoolkit.analyzer import Analyzer"
   ]
  },
  {
   "cell_type": "code",
   "execution_count": 3,
   "id": "30091b27",
   "metadata": {},
   "outputs": [],
   "source": [
    "company = Analyzer([\"MSFT\", \"AAPL\"])"
   ]
  },
  {
   "cell_type": "code",
   "execution_count": 8,
   "id": "e0b0a9fe",
   "metadata": {},
   "outputs": [
    {
     "name": "stdout",
     "output_type": "stream",
     "text": [
      "Files are being saved at /Users/jeroenbouma/Downloads\n"
     ]
    }
   ],
   "source": [
    "company.get_normalization_files()"
   ]
  },
  {
   "cell_type": "code",
   "execution_count": 11,
   "id": "4390802e",
   "metadata": {},
   "outputs": [],
   "source": [
    "def get_kelly_criterion(\n",
    "    win_probability: pd.Series, win_loss_ratio: pd.Series\n",
    ") -> pd.Series:\n",
    "    \"\"\"\n",
    "    Calculates the Kelly criterion for the given returns series.\n",
    "\n",
    "    Args:\n",
    "        returns (pd.Series): A series of asset returns.\n",
    "\n",
    "    Returns:\n",
    "        pd.Series: The calculated Kelly criterion series.\n",
    "    \"\"\"\n",
    "    p = win_probability\n",
    "    r = win_loss_ratio\n",
    "\n",
    "    kelly_fraction = (p * r - (1 - p)) / r\n",
    "\n",
    "    return kelly_fraction"
   ]
  },
  {
   "cell_type": "code",
   "execution_count": 10,
   "id": "f54f79f5",
   "metadata": {},
   "outputs": [],
   "source": [
    "import pandas as pd"
   ]
  },
  {
   "cell_type": "code",
   "execution_count": 13,
   "id": "4b46ddfd",
   "metadata": {},
   "outputs": [
    {
     "data": {
      "text/plain": [
       "0    1.000000\n",
       "1    2.500000\n",
       "2    3.666667\n",
       "dtype: float64"
      ]
     },
     "execution_count": 13,
     "metadata": {},
     "output_type": "execute_result"
    }
   ],
   "source": [
    "get_kelly_criterion(pd.Series([1, 2, 3]), pd.Series([1, 2, 3]))"
   ]
  },
  {
   "cell_type": "code",
   "execution_count": 14,
   "id": "af90eb47",
   "metadata": {},
   "outputs": [],
   "source": [
    "def get_calmar_ratio(returns: pd.Series, period: int = 252) -> pd.Series:\n",
    "    \"\"\"\n",
    "    The Calmar Ratio is a measure of risk-adjusted performance\n",
    "    of an investment strategy. It is calculated by dividing the average\n",
    "    annual rate of return by the maximum drawdown over a specified period.\n",
    "\n",
    "    Args:\n",
    "        returns (pd.Series): A series of asset returns.\n",
    "        period (int): the period of the returns (in days).\n",
    "\n",
    "    Returns:\n",
    "        pd.Series: The calculated Calmar ratio series.\n",
    "    \"\"\"\n",
    "    annual_return = (1 + np.mean(returns)) ** period - 1\n",
    "    max_drawdown = np.max(np.maximum.accumulate(returns) - returns) / np.max(\n",
    "        np.maximum.accumulate(returns)\n",
    "    )\n",
    "    calmar_ratio = annual_return / abs(max_drawdown)\n",
    "\n",
    "    return calmar_ratio"
   ]
  },
  {
   "cell_type": "code",
   "execution_count": 16,
   "id": "aa40b007",
   "metadata": {},
   "outputs": [],
   "source": [
    "import numpy as np"
   ]
  },
  {
   "cell_type": "code",
   "execution_count": 19,
   "id": "ba84e32b",
   "metadata": {},
   "outputs": [
    {
     "data": {
      "text/plain": [
       "0.03750000000000003"
      ]
     },
     "execution_count": 19,
     "metadata": {},
     "output_type": "execute_result"
    }
   ],
   "source": [
    "get_calmar_ratio(pd.Series([0.05, 0.03, 0.01]), period=1)"
   ]
  },
  {
   "cell_type": "code",
   "execution_count": 22,
   "id": "7451d1a7",
   "metadata": {},
   "outputs": [
    {
     "data": {
      "text/plain": [
       "1716.831751313419"
      ]
     },
     "execution_count": 22,
     "metadata": {},
     "output_type": "execute_result"
    }
   ],
   "source": [
    "(1 + np.mean(pd.Series([0.05, 0.03, 0.01]))) ** 252 - 1"
   ]
  },
  {
   "cell_type": "code",
   "execution_count": 40,
   "id": "fc47149e",
   "metadata": {},
   "outputs": [],
   "source": [
    "def get_max_drawdown(returns: pd.Series) -> pd.Series:\n",
    "    \"\"\"\n",
    "    The maximum drawdown is a measure of the largest loss from\n",
    "    a peak to a trough of a portfolio, expressed as a percentage.\n",
    "\n",
    "    Args:\n",
    "        returns (pd.Series): A pandas series of returns.\n",
    "\n",
    "    Returns:\n",
    "        pd.Series: A pandas series of gain to pain ratio.\n",
    "    \"\"\"\n",
    "    cum_returns = np.cumprod(1 + returns)\n",
    "    peak = np.maximum.accumulate(cum_returns)\n",
    "    drawdown = (cum_returns - peak) / peak\n",
    "    max_drawdown = np.min(drawdown)\n",
    "\n",
    "    print(cum_returns)\n",
    "    print(peak)\n",
    "    print(drawdown)\n",
    "    print(max_drawdown)\n",
    "\n",
    "    return max_drawdown\n",
    "\n",
    "\n",
    "def get_calmar_ratio(returns: pd.Series) -> pd.Series:\n",
    "    \"\"\"\n",
    "    The Calmar Ratio is a measure of risk-adjusted performance\n",
    "    of an investment strategy. It is calculated by dividing the average\n",
    "    annual rate of return by the maximum drawdown over a specified period.\n",
    "\n",
    "    Args:\n",
    "        returns (pd.Series): A series of asset returns.\n",
    "\n",
    "    Returns:\n",
    "        float: The calculated Calmar ratio series.\n",
    "    \"\"\"\n",
    "    average_return = returns.mean()\n",
    "    maximum_drawdown = get_max_drawdown(returns)\n",
    "\n",
    "    if min(returns) > 0:\n",
    "        raise ValueError(\n",
    "            \"Calmar ratio can not be calculated due to zero negative returns.\"\n",
    "        )\n",
    "\n",
    "    return average_return / maximum_drawdown"
   ]
  },
  {
   "cell_type": "code",
   "execution_count": 41,
   "id": "071452f4",
   "metadata": {},
   "outputs": [
    {
     "name": "stdout",
     "output_type": "stream",
     "text": [
      "0    1.050000\n",
      "1    1.102500\n",
      "2    1.135575\n",
      "3    1.146931\n",
      "4    1.169869\n",
      "5    1.228363\n",
      "dtype: float64\n",
      "0    1.050000\n",
      "1    1.102500\n",
      "2    1.135575\n",
      "3    1.146931\n",
      "4    1.169869\n",
      "5    1.228363\n",
      "dtype: float64\n",
      "0    0.0\n",
      "1    0.0\n",
      "2    0.0\n",
      "3    0.0\n",
      "4    0.0\n",
      "5    0.0\n",
      "dtype: float64\n",
      "0.0\n"
     ]
    },
    {
     "ename": "ValueError",
     "evalue": "Calmar ratio can not be calculated due to no negative returns.",
     "output_type": "error",
     "traceback": [
      "\u001b[0;31m---------------------------------------------------------------------------\u001b[0m",
      "\u001b[0;31mValueError\u001b[0m                                Traceback (most recent call last)",
      "Cell \u001b[0;32mIn[41], line 1\u001b[0m\n\u001b[0;32m----> 1\u001b[0m \u001b[43mget_calmar_ratio\u001b[49m\u001b[43m(\u001b[49m\u001b[43mpd\u001b[49m\u001b[38;5;241;43m.\u001b[39;49m\u001b[43mSeries\u001b[49m\u001b[43m(\u001b[49m\u001b[43m[\u001b[49m\u001b[38;5;241;43m0.05\u001b[39;49m\u001b[43m,\u001b[49m\u001b[43m \u001b[49m\u001b[38;5;241;43m0.05\u001b[39;49m\u001b[43m,\u001b[49m\u001b[43m \u001b[49m\u001b[38;5;241;43m0.03\u001b[39;49m\u001b[43m,\u001b[49m\u001b[43m \u001b[49m\u001b[38;5;241;43m0.01\u001b[39;49m\u001b[43m,\u001b[49m\u001b[43m \u001b[49m\u001b[38;5;241;43m0.02\u001b[39;49m\u001b[43m,\u001b[49m\u001b[43m \u001b[49m\u001b[38;5;241;43m0.05\u001b[39;49m\u001b[43m]\u001b[49m\u001b[43m)\u001b[49m\u001b[43m)\u001b[49m\n",
      "Cell \u001b[0;32mIn[40], line 40\u001b[0m, in \u001b[0;36mget_calmar_ratio\u001b[0;34m(returns)\u001b[0m\n\u001b[1;32m     37\u001b[0m maximum_drawdown \u001b[38;5;241m=\u001b[39m get_max_drawdown(returns)\n\u001b[1;32m     39\u001b[0m \u001b[38;5;28;01mif\u001b[39;00m \u001b[38;5;28mmin\u001b[39m(returns) \u001b[38;5;241m>\u001b[39m \u001b[38;5;241m0\u001b[39m:\n\u001b[0;32m---> 40\u001b[0m     \u001b[38;5;28;01mraise\u001b[39;00m \u001b[38;5;167;01mValueError\u001b[39;00m(\u001b[38;5;124m\"\u001b[39m\u001b[38;5;124mCalmar ratio can not be calculated due to no negative returns.\u001b[39m\u001b[38;5;124m\"\u001b[39m)\n\u001b[1;32m     42\u001b[0m \u001b[38;5;28;01mreturn\u001b[39;00m average_return \u001b[38;5;241m/\u001b[39m maximum_drawdown\n",
      "\u001b[0;31mValueError\u001b[0m: Calmar ratio can not be calculated due to no negative returns."
     ]
    }
   ],
   "source": [
    "get_calmar_ratio(pd.Series([0.05, 0.05, 0.03, 0.01, 0.02, 0.05]))"
   ]
  },
  {
   "cell_type": "code",
   "execution_count": null,
   "id": "68bb8916",
   "metadata": {},
   "outputs": [],
   "source": []
  }
 ],
 "metadata": {
  "kernelspec": {
   "display_name": "Python 3 (ipykernel)",
   "language": "python",
   "name": "python3"
  },
  "language_info": {
   "codemirror_mode": {
    "name": "ipython",
    "version": 3
   },
   "file_extension": ".py",
   "mimetype": "text/x-python",
   "name": "python",
   "nbconvert_exporter": "python",
   "pygments_lexer": "ipython3",
   "version": "3.10.9"
  }
 },
 "nbformat": 4,
 "nbformat_minor": 5
}
