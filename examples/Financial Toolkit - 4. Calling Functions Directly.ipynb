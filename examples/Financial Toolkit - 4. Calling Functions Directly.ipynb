{
 "cells": [
  {
   "attachments": {},
   "cell_type": "markdown",
   "id": "55822295",
   "metadata": {},
   "source": [
    "**The FinancialToolkit** is an open-source financial toolkit in which all relevant financial ratios (50+), indicators and performance measurements are written down in the most simplistic way allowing for complete transparency of the calculation method. This allows you to not have to rely on metrics from other providers and, given a financial statement, allow for efficient manual calculations. This leads to one uniform method of calculation being applied that is available and understood by everyone."
   ]
  },
  {
   "attachments": {},
   "cell_type": "markdown",
   "id": "2937a8f2",
   "metadata": {},
   "source": [
    "# Installation\n",
    "To install the FinancialToolkit it simply requires the following:\n",
    "\n",
    "```cli\n",
    "pip install financialtoolkit -U\n",
    "```\n",
    "\n",
    "The dependencies of the package are on purpose *very slim* so that it will work well with any combination of packages and not result in conflicts. I've also been careful with my selection in which I leave out functionality like technical analysis in which [ta-lib](https://ta-lib.org/) does an excellent job as well as portfolio attribution and optimisation in which [Riskfolio-lib](https://riskfolio-lib.readthedocs.io/en/latest/index.html) shines and lastly allow for any source to be incorporated to allow for the incorporation of data sources from [OpenBB](https://openbb.co/)."
   ]
  },
  {
   "cell_type": "code",
   "execution_count": 1,
   "id": "d129800c",
   "metadata": {},
   "outputs": [],
   "source": [
    "import pandas as pd\n",
    "import numpy as np"
   ]
  },
  {
   "attachments": {},
   "cell_type": "markdown",
   "id": "1ba74257",
   "metadata": {},
   "source": [
    "While the `Toolkit` package itself is class-based, this doesn't mean that you are unable to call each functionality individually as well. This accepts virtually any input, from `np.array` to `pd.Series` and regular `floats`."
   ]
  },
  {
   "cell_type": "code",
   "execution_count": 2,
   "id": "3d6451f0",
   "metadata": {},
   "outputs": [
    {
     "data": {
      "text/plain": [
       "0    0.481046\n",
       "1    1.992904\n",
       "2    0.103081\n",
       "dtype: float64"
      ]
     },
     "execution_count": 2,
     "metadata": {},
     "output_type": "execute_result"
    }
   ],
   "source": [
    "from financialtoolkit.historical import price\n",
    "\n",
    "price.get_sharpe_ratio(\n",
    "    returns=np.array([0.09, 0.6, 0.075]), risk_free_rate=np.array([0.01, 0.03, 0.03])\n",
    ")\n",
    "\n",
    "price.get_sharpe_ratio(\n",
    "    returns=pd.Series([0.10, 0.5, 0.075]), risk_free_rate=pd.Series([0.005, 0.02, 0.03])\n",
    ")\n",
    "\n",
    "price.get_sharpe_ratio(returns=pd.Series([0.08, 0.3, 0.025]), risk_free_rate=0.01)"
   ]
  },
  {
   "attachments": {},
   "cell_type": "markdown",
   "id": "49037c8e",
   "metadata": {},
   "source": [
    "It is also relatively straight forward to group a selection of ratios into one DataFrame."
   ]
  },
  {
   "cell_type": "code",
   "execution_count": 3,
   "id": "2dc6388e",
   "metadata": {},
   "outputs": [
    {
     "data": {
      "text/html": [
       "<div>\n",
       "<style scoped>\n",
       "    .dataframe tbody tr th:only-of-type {\n",
       "        vertical-align: middle;\n",
       "    }\n",
       "\n",
       "    .dataframe tbody tr th {\n",
       "        vertical-align: top;\n",
       "    }\n",
       "\n",
       "    .dataframe thead th {\n",
       "        text-align: right;\n",
       "    }\n",
       "</style>\n",
       "<table border=\"1\" class=\"dataframe\">\n",
       "  <thead>\n",
       "    <tr style=\"text-align: right;\">\n",
       "      <th></th>\n",
       "      <th>Asset Turnover</th>\n",
       "      <th>Quick Ratio</th>\n",
       "      <th>Return on Assets</th>\n",
       "      <th>Debt to Assets</th>\n",
       "      <th>Price to Earnings</th>\n",
       "    </tr>\n",
       "  </thead>\n",
       "  <tbody>\n",
       "    <tr>\n",
       "      <th>0</th>\n",
       "      <td>0.200000</td>\n",
       "      <td>1.230769</td>\n",
       "      <td>0.400000</td>\n",
       "      <td>0.500000</td>\n",
       "      <td>60.000000</td>\n",
       "    </tr>\n",
       "    <tr>\n",
       "      <th>1</th>\n",
       "      <td>0.265060</td>\n",
       "      <td>1.166667</td>\n",
       "      <td>0.133333</td>\n",
       "      <td>0.785714</td>\n",
       "      <td>27.500000</td>\n",
       "    </tr>\n",
       "    <tr>\n",
       "      <th>2</th>\n",
       "      <td>0.387097</td>\n",
       "      <td>1.636364</td>\n",
       "      <td>0.100000</td>\n",
       "      <td>0.750000</td>\n",
       "      <td>120.000000</td>\n",
       "    </tr>\n",
       "    <tr>\n",
       "      <th>3</th>\n",
       "      <td>0.650000</td>\n",
       "      <td>1.133333</td>\n",
       "      <td>0.060000</td>\n",
       "      <td>0.812500</td>\n",
       "      <td>9.090909</td>\n",
       "    </tr>\n",
       "    <tr>\n",
       "      <th>4</th>\n",
       "      <td>0.800000</td>\n",
       "      <td>1.600000</td>\n",
       "      <td>0.044444</td>\n",
       "      <td>0.266667</td>\n",
       "      <td>25.000000</td>\n",
       "    </tr>\n",
       "  </tbody>\n",
       "</table>\n",
       "</div>"
      ],
      "text/plain": [
       "   Asset Turnover  Quick Ratio  Return on Assets  Debt to Assets  \\\n",
       "0        0.200000     1.230769          0.400000        0.500000   \n",
       "1        0.265060     1.166667          0.133333        0.785714   \n",
       "2        0.387097     1.636364          0.100000        0.750000   \n",
       "3        0.650000     1.133333          0.060000        0.812500   \n",
       "4        0.800000     1.600000          0.044444        0.266667   \n",
       "\n",
       "   Price to Earnings  \n",
       "0          60.000000  \n",
       "1          27.500000  \n",
       "2         120.000000  \n",
       "3           9.090909  \n",
       "4          25.000000  "
      ]
     },
     "execution_count": 3,
     "metadata": {},
     "output_type": "execute_result"
    }
   ],
   "source": [
    "from financialtoolkit.ratios import (\n",
    "    efficiency,\n",
    "    liquidity,\n",
    "    profitability,\n",
    "    solvency,\n",
    "    valuation,\n",
    ")\n",
    "\n",
    "# Note: this is dummy data, not actual data\n",
    "\n",
    "asset_turnover = efficiency.get_asset_turnover_ratio(\n",
    "    sales=pd.Series([100, 110, 120, 130, 80]),\n",
    "    total_assets_begin=pd.Series([500, 400, 300, 200, 100]),\n",
    "    total_assets_end=pd.Series([500, 430, 320, 200, 100]),\n",
    ")\n",
    "\n",
    "quick_ratio = liquidity.get_quick_ratio(\n",
    "    cash_and_equivalents=pd.Series([100, 110, 120, 130, 80]),\n",
    "    accounts_receivable=pd.Series([30, 20, 30, 20, 40]),\n",
    "    marketable_securities=pd.Series([30, 10, 30, 20, 40]),\n",
    "    current_liabilities=pd.Series([130, 120, 110, 150, 100]),\n",
    ")\n",
    "\n",
    "return_on_assets = profitability.get_return_on_assets(\n",
    "    net_income=pd.Series([80, 40, 40, 30, 20]),\n",
    "    total_assets=pd.Series([200, 300, 400, 500, 450]),\n",
    ")\n",
    "\n",
    "debt_to_assets = solvency.get_debt_to_assets_ratio(\n",
    "    total_debt=pd.Series([100, 110, 120, 130, 80]),\n",
    "    total_assets=pd.Series([200, 140, 160, 160, 300]),\n",
    ")\n",
    "\n",
    "price_to_earnings = valuation.get_price_earnings_ratio(\n",
    "    stock_price=pd.Series([30, 11, 12, 10, 30]),\n",
    "    earnings_per_share=pd.Series([0.5, 0.4, 0.1, 1.1, 1.2]),\n",
    ")\n",
    "\n",
    "components = {\n",
    "    \"Asset Turnover\": asset_turnover,\n",
    "    \"Quick Ratio\": quick_ratio,\n",
    "    \"Return on Assets\": return_on_assets,\n",
    "    \"Debt to Assets\": debt_to_assets,\n",
    "    \"Price to Earnings\": price_to_earnings,\n",
    "}\n",
    "\n",
    "\n",
    "pd.DataFrame(components)"
   ]
  },
  {
   "attachments": {},
   "cell_type": "markdown",
   "id": "fb45967d",
   "metadata": {},
   "source": [
    "The Dupont analysis functionality was filled with actual data from Apple and therefore it returns the results that closely match their actual metrics given the reporting dates in October."
   ]
  },
  {
   "cell_type": "code",
   "execution_count": 4,
   "id": "a528524b",
   "metadata": {},
   "outputs": [
    {
     "data": {
      "text/html": [
       "<div>\n",
       "<style scoped>\n",
       "    .dataframe tbody tr th:only-of-type {\n",
       "        vertical-align: middle;\n",
       "    }\n",
       "\n",
       "    .dataframe tbody tr th {\n",
       "        vertical-align: top;\n",
       "    }\n",
       "\n",
       "    .dataframe thead th {\n",
       "        text-align: right;\n",
       "    }\n",
       "</style>\n",
       "<table border=\"1\" class=\"dataframe\">\n",
       "  <thead>\n",
       "    <tr style=\"text-align: right;\">\n",
       "      <th></th>\n",
       "      <th>2018</th>\n",
       "      <th>2019</th>\n",
       "      <th>2020</th>\n",
       "      <th>2021</th>\n",
       "      <th>2022</th>\n",
       "    </tr>\n",
       "  </thead>\n",
       "  <tbody>\n",
       "    <tr>\n",
       "      <th>Net Profit Margin</th>\n",
       "      <td>0.224142</td>\n",
       "      <td>0.212381</td>\n",
       "      <td>0.209136</td>\n",
       "      <td>0.258818</td>\n",
       "      <td>0.253096</td>\n",
       "    </tr>\n",
       "    <tr>\n",
       "      <th>Asset Turnover</th>\n",
       "      <td>NaN</td>\n",
       "      <td>0.738878</td>\n",
       "      <td>0.828845</td>\n",
       "      <td>1.084079</td>\n",
       "      <td>1.120637</td>\n",
       "    </tr>\n",
       "    <tr>\n",
       "      <th>Equity Multiplier</th>\n",
       "      <td>NaN</td>\n",
       "      <td>3.563342</td>\n",
       "      <td>4.250894</td>\n",
       "      <td>5.254966</td>\n",
       "      <td>6.186222</td>\n",
       "    </tr>\n",
       "    <tr>\n",
       "      <th>Return on Equity</th>\n",
       "      <td>NaN</td>\n",
       "      <td>0.559172</td>\n",
       "      <td>0.736856</td>\n",
       "      <td>1.474433</td>\n",
       "      <td>1.754593</td>\n",
       "    </tr>\n",
       "  </tbody>\n",
       "</table>\n",
       "</div>"
      ],
      "text/plain": [
       "                       2018      2019      2020      2021      2022\n",
       "Net Profit Margin  0.224142  0.212381  0.209136  0.258818  0.253096\n",
       "Asset Turnover          NaN  0.738878  0.828845  1.084079  1.120637\n",
       "Equity Multiplier       NaN  3.563342  4.250894  5.254966  6.186222\n",
       "Return on Equity        NaN  0.559172  0.736856  1.474433  1.754593"
      ]
     },
     "execution_count": 4,
     "metadata": {},
     "output_type": "execute_result"
    }
   ],
   "source": [
    "from financialtoolkit.models import dupont\n",
    "\n",
    "years = [2018, 2019, 2020, 2021, 2022]\n",
    "\n",
    "dupont.get_dupont_analysis(\n",
    "    net_income=pd.Series(\n",
    "        [59531000000, 55256000000, 57411000000, 94680000000, 99803000000], index=years\n",
    "    ),\n",
    "    total_revenue=pd.Series(\n",
    "        [265595000000, 260174000000, 274515000000, 365817000000, 394328000000],\n",
    "        index=years,\n",
    "    ),\n",
    "    total_assets_begin=pd.Series(\n",
    "        [np.nan, 365725000000, 338516000000, 323888000000, 351002000000],\n",
    "        index=years,\n",
    "    ),\n",
    "    total_assets_end=pd.Series(\n",
    "        [365725000000, 338516000000, 323888000000, 351002000000, 352755000000],\n",
    "        index=years,\n",
    "    ),\n",
    "    total_equity_begin=pd.Series(\n",
    "        [np.nan, 107147000000, 90488000000, 65339000000, 63090000000], index=years\n",
    "    ),\n",
    "    total_equity_end=pd.Series(\n",
    "        [107147000000, 90488000000, 65339000000, 63090000000, 50672000000], index=years\n",
    "    ),\n",
    ")"
   ]
  }
 ],
 "metadata": {
  "kernelspec": {
   "display_name": "Python 3 (ipykernel)",
   "language": "python",
   "name": "python3"
  },
  "language_info": {
   "codemirror_mode": {
    "name": "ipython",
    "version": 3
   },
   "file_extension": ".py",
   "mimetype": "text/x-python",
   "name": "python",
   "nbconvert_exporter": "python",
   "pygments_lexer": "ipython3",
   "version": "3.10.8"
  }
 },
 "nbformat": 4,
 "nbformat_minor": 5
}
