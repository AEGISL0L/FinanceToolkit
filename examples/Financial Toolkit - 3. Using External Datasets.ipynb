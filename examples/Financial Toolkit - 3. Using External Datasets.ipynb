{
 "cells": [
  {
   "attachments": {},
   "cell_type": "markdown",
   "id": "f78e12b6",
   "metadata": {},
   "source": [
    "<p align=\"center\">\n",
    "    <img src=\"https://private-user-images.githubusercontent.com/46355364/238023617-a0f5e7af-d8d6-4ce8-9e71-47376baa35f2.jpeg?jwt=eyJhbGciOiJIUzI1NiIsInR5cCI6IkpXVCJ9.eyJrZXkiOiJrZXkxIiwiZXhwIjoxNjg0MzA5NzExLCJuYmYiOjE2ODQzMDk0MTEsInBhdGgiOiIvNDYzNTUzNjQvMjM4MDIzNjE3LWEwZjVlN2FmLWQ4ZDYtNGNlOC05ZTcxLTQ3Mzc2YmFhMzVmMi5qcGVnP1gtQW16LUFsZ29yaXRobT1BV1M0LUhNQUMtU0hBMjU2JlgtQW16LUNyZWRlbnRpYWw9QUtJQUlXTkpZQVg0Q1NWRUg1M0ElMkYyMDIzMDUxNyUyRnVzLWVhc3QtMSUyRnMzJTJGYXdzNF9yZXF1ZXN0JlgtQW16LURhdGU9MjAyMzA1MTdUMDc0MzMxWiZYLUFtei1FeHBpcmVzPTMwMCZYLUFtei1TaWduYXR1cmU9NDMxYWIxOGMxNGIxODI5YzI1MzM3YjdlMmFlZjZmNmZmYWI1YzI0ZGU3MzMxNmY5YTdmNDk0NTZiMmIyZjMzZCZYLUFtei1TaWduZWRIZWFkZXJzPWhvc3QifQ.XqGEL9QCAHnnldryiRb7VZ16ERKHspbv3mCXL1-3ABc\" alt=\"Logo\">\n",
    "\n",
    "The Financial Toolkit can take in any dataset which means it works very well with the software from [OpenBB 🦋](https://openbb.co/), a leading open-source investment research software platform that gives you access to high-quality financial market data and analytical tools. The mission from OpenBB is to make investment research effective, powerful and accessible to everyone.\n",
    "\n",
    "OpenBB has the OpenBB SDK and the OpenBB Terminal that both work well with the Financial Toolkit. In this Notebook datasets from the OpenBB SDK are retrieved and loaded into the Financial Toolkit. This demonstrates the ease of use. A similar methodology would work with the OpenBB Terminal in which the export capabilities can be utilised.\n",
    "\n",
    "To install the **OpenBB SDK** it simply requires the following:\n",
    "\n",
    "```cli\n",
    "pip install openbb --no-cache-dir --upgrade\n",
    "````\n",
    "\n",
    "From within Python use:\n",
    "\n",
    "```python\n",
    "from openbb_terminal.sdk import openbb\n",
    "```\n",
    "\n",
    "For a detailed explanation of how to install and use the OpenBB SDK, please see the official website as found [here](https://my.openbb.co/app/sdk)."
   ]
  },
  {
   "cell_type": "code",
   "execution_count": 1,
   "id": "b256daa1",
   "metadata": {},
   "outputs": [
    {
     "ename": "ModuleNotFoundError",
     "evalue": "No module named 'openbb_terminal'",
     "output_type": "error",
     "traceback": [
      "\u001b[1;31m---------------------------------------------------------------------------\u001b[0m",
      "\u001b[1;31mModuleNotFoundError\u001b[0m                       Traceback (most recent call last)",
      "Cell \u001b[1;32mIn[1], line 2\u001b[0m\n\u001b[0;32m      1\u001b[0m \u001b[39mfrom\u001b[39;00m \u001b[39mfinancialtoolkit\u001b[39;00m \u001b[39mimport\u001b[39;00m Toolkit\n\u001b[1;32m----> 2\u001b[0m \u001b[39mfrom\u001b[39;00m \u001b[39mopenbb_terminal\u001b[39;00m\u001b[39m.\u001b[39;00m\u001b[39msdk\u001b[39;00m \u001b[39mimport\u001b[39;00m openbb\n\u001b[0;32m      4\u001b[0m API_KEY \u001b[39m=\u001b[39m \u001b[39m\"\u001b[39m\u001b[39mFINANCIAL_MODELING_PREP_API_KEY\u001b[39m\u001b[39m\"\u001b[39m\n",
      "\u001b[1;31mModuleNotFoundError\u001b[0m: No module named 'openbb_terminal'"
     ]
    }
   ],
   "source": [
    "from financialtoolkit import Toolkit\n",
    "from openbb_terminal.sdk import openbb\n",
    "\n",
    "API_KEY = \"FINANCIAL_MODELING_PREP_API_KEY\""
   ]
  },
  {
   "attachments": {},
   "cell_type": "markdown",
   "id": "293f5302",
   "metadata": {},
   "source": [
    "Much of the functionality that the Financial Toolkit requires, can be found within the `openbb.stocks.fa` module of the OpenBB SDK. For example, when it comes to financial statements from a variety of sources. Within this Notebook the Alpha Vantage source is used to collect data.\n",
    "\n",
    "**Note:** this will require the normalization files to be used as well. There is no out-of-the-box support."
   ]
  },
  {
   "cell_type": "code",
   "execution_count": null,
   "id": "15431c0f",
   "metadata": {},
   "outputs": [],
   "source": []
  }
 ],
 "metadata": {
  "kernelspec": {
   "display_name": "Python 3 (ipykernel)",
   "language": "python",
   "name": "python3"
  },
  "language_info": {
   "codemirror_mode": {
    "name": "ipython",
    "version": 3
   },
   "file_extension": ".py",
   "mimetype": "text/x-python",
   "name": "python",
   "nbconvert_exporter": "python",
   "pygments_lexer": "ipython3",
   "version": "3.10.10"
  }
 },
 "nbformat": 4,
 "nbformat_minor": 5
}
